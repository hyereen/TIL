{
 "cells": [
  {
   "cell_type": "code",
   "execution_count": null,
   "id": "da83ffe2",
   "metadata": {},
   "outputs": [],
   "source": []
  },
  {
   "cell_type": "code",
   "execution_count": null,
   "id": "c8172220",
   "metadata": {},
   "outputs": [],
   "source": []
  },
  {
   "cell_type": "code",
   "execution_count": null,
   "id": "4b21b8d6",
   "metadata": {},
   "outputs": [],
   "source": []
  }
 ],
 "metadata": {
  "kernelspec": {
   "display_name": "ve_facam",
   "language": "python",
   "name": "ve_facam"
  }
 },
 "nbformat": 4,
 "nbformat_minor": 5
}
