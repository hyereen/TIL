{
 "cells": [
  {
   "cell_type": "code",
   "execution_count": null,
   "id": "d1080555",
   "metadata": {},
   "outputs": [],
   "source": [
    "import pandas as pd"
   ]
  },
  {
   "cell_type": "code",
   "execution_count": null,
   "id": "4da18590",
   "metadata": {},
   "outputs": [],
   "source": []
  }
 ],
 "metadata": {
  "kernelspec": {
   "display_name": "ve_facam",
   "language": "python",
   "name": "ve_facam"
  }
 },
 "nbformat": 4,
 "nbformat_minor": 5
}
