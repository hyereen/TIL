{
  "nbformat": 4,
  "nbformat_minor": 0,
  "metadata": {
    "colab": {
      "name": "이진탐색",
      "provenance": []
    },
    "kernelspec": {
      "name": "python3",
      "display_name": "Python 3"
    },
    "language_info": {
      "name": "python"
    }
  },
  "cells": [
    {
      "cell_type": "code",
      "execution_count": 3,
      "metadata": {
        "id": "fXoAeAXPoxvO"
      },
      "outputs": [],
      "source": [
        "# 7-2 재귀함수로 구현한 이진 탐색 소스코드\n",
        "\n",
        "def bin_search(array, target, start, end):\n",
        "    if start > end:\n",
        "      return None\n",
        "    \n",
        "    mid = (start + end) // 2\n",
        "\n",
        "    # 찾은 경우 중간 인덱스 반환\n",
        "    if array[mid] == target:\n",
        "      return mid\n",
        "\n",
        "    # 중간점의 값보다 찾고자 하는 값이 작은 경우 왼쪽 확인\n",
        "    elif array[mid] > target:\n",
        "      return bin_search(array, target, start, mid-1)\n",
        "\n",
        "    else:\n",
        "      return bin_search(array, target, mid +1, end)\n",
        "  "
      ]
    },
    {
      "cell_type": "code",
      "source": [
        "# n(원소의 개수)와 target(찾고자하는 문자열) 입력받기\n",
        "n, target = list(map(int, input().split()))\n",
        "\n",
        "# 전체 원소 입력받기\n",
        "array = list(map(int, input().split()))\n",
        "\n",
        "# 이진탐색 수행결과 출력\n",
        "result = bin_search(array, target, 0, n-1)\n",
        "\n",
        "if result == None:\n",
        "  print(\"원소가 존재하지 않음\")\n",
        "else:\n",
        "  print(result+1)"
      ],
      "metadata": {
        "colab": {
          "base_uri": "https://localhost:8080/"
        },
        "id": "RWBlan6A_0C1",
        "outputId": "1a7300e8-b876-4b73-9eb6-fc9f0a25083b"
      },
      "execution_count": 4,
      "outputs": [
        {
          "output_type": "stream",
          "name": "stdout",
          "text": [
            "10 7\n",
            "1 3 5 7 9 11 13 15 17 19\n",
            "4\n"
          ]
        }
      ]
    }
  ]
}