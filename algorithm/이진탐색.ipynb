{
  "nbformat": 4,
  "nbformat_minor": 0,
  "metadata": {
    "colab": {
      "name": "이진탐색",
      "provenance": []
    },
    "kernelspec": {
      "name": "python3",
      "display_name": "Python 3"
    },
    "language_info": {
      "name": "python"
    }
  },
  "cells": [
    {
      "cell_type": "code",
      "execution_count": null,
      "metadata": {
        "id": "fXoAeAXPoxvO"
      },
      "outputs": [],
      "source": [
        "# 7-2 재귀함수로 구현한 이진 탐색 소스코드\n",
        "\n",
        "def bin_search(array, target, start, end):\n",
        "    if start > end:\n",
        "      return None\n",
        "    \n",
        "    mid = (start + end) // 2\n",
        "\n",
        "    # 찾은 경우 중간 인덱스 반환\n",
        "    if array[mid] == target:\n",
        "      return mid\n",
        "\n",
        "    # 중간점의 값보다 찾고자 하는 값이 작은 경우 왼쪽 확인\n",
        "    elif array[mid] > target:\n",
        "      return bin_search(array, target, start, mid-1)\n",
        "\n",
        "    else:\n",
        "      return bin_search(array, target, mid +1, end)\n",
        "  "
      ]
    },
    {
      "cell_type": "code",
      "source": [
        "# n(원소의 개수)와 target(찾고자하는 문자열) 입력받기\n",
        "n, target = list(map(int, input().split()))\n",
        "\n",
        "# 전체 원소 입력받기\n",
        "array = list(map(int, input().split()))\n",
        "\n",
        "# 이진탐색 수행결과 출력\n",
        "result = bin_search(array, target, 0, n-1)\n",
        "\n",
        "if result == None:\n",
        "  print(\"원소가 존재하지 않음\")\n",
        "else:\n",
        "  print(result+1)"
      ],
      "metadata": {
        "colab": {
          "base_uri": "https://localhost:8080/"
        },
        "id": "RWBlan6A_0C1",
        "outputId": "1a7300e8-b876-4b73-9eb6-fc9f0a25083b"
      },
      "execution_count": null,
      "outputs": [
        {
          "output_type": "stream",
          "name": "stdout",
          "text": [
            "10 7\n",
            "1 3 5 7 9 11 13 15 17 19\n",
            "4\n"
          ]
        }
      ]
    },
    {
      "cell_type": "code",
      "source": [
        "# 7-3 반복문으로 구현한 이진탐색 소스코드\n",
        "\n",
        "def bin_search_loop(array, target, start, end):\n",
        "  while start <= end:\n",
        "    mid = (start+end) //2\n",
        "    # 찾은 경우 중간점 인덱스 반환\n",
        "    if array[mid] == target:\n",
        "      return mid\n",
        "    \n",
        "    # 중간점 값보다 찾고자하는 값이 작은 경우 왼쪽 확인\n",
        "    elif array[mid] > target:\n",
        "      end = mid - 1\n",
        "\n",
        "    # 중간 점의 값보다 찾고자 하는 값이 큰 경우 오른쪽 확인\n",
        "    else:\n",
        "      start = mid + 1\n",
        "  return None\n",
        "\n"
      ],
      "metadata": {
        "id": "gMP1_AppYcyj"
      },
      "execution_count": 1,
      "outputs": []
    },
    {
      "cell_type": "code",
      "source": [
        "# n(원소의 개수)와 target(찾고자하는 문자열) 입력받기\n",
        "n, target = list(map(int, input().split()))\n",
        "\n",
        "# 전체 원소 입력받기\n",
        "array = list(map(int, input().split()))\n",
        "\n",
        "# 이진탐색 수행결과 출력\n",
        "result = bin_search_loop(array, target, 0, n-1)\n",
        "\n",
        "if result == None:\n",
        "  print(\"원소가 존재하지 않음\")\n",
        "else:\n",
        "  print(result+1)"
      ],
      "metadata": {
        "colab": {
          "base_uri": "https://localhost:8080/"
        },
        "id": "K38te-XGbfMz",
        "outputId": "cd2f8027-8c46-48a5-ae7d-17f90f86be46"
      },
      "execution_count": 2,
      "outputs": [
        {
          "output_type": "stream",
          "name": "stdout",
          "text": [
            "10 7\n",
            "1 3 5 7 9 11 13 15 17 19\n",
            "4\n"
          ]
        }
      ]
    },
    {
      "cell_type": "code",
      "source": [
        "# 7-5 부품찾기 - 이진 탐색\n",
        "\n",
        "def bin_search_loop(array, target, start, end):\n",
        "  while start <= end:\n",
        "    mid = (start+end) //2\n",
        "    # 찾은 경우 중간점 인덱스 반환\n",
        "    if array[mid] == target:\n",
        "      return mid\n",
        "    \n",
        "    # 중간점 값보다 찾고자 하는 값이 작은 경우 왼쪽 확인\n",
        "    elif array[mid] > target:\n",
        "      end = mid - 1\n",
        "\n",
        "    # 중간 점의 값보다 찾고자 하는 값이 큰 경우 오른쪽 확인\n",
        "    else:\n",
        "      start = mid + 1\n",
        "  return None\n",
        "\n",
        "\n",
        "# N(가게 부품 개수)입력\n",
        "n = int(input())\n",
        "\n",
        "# 가게에 있는 전체 부품 번호를 공백으로 구분하여 입력\n",
        "array = list(map(int, input().split()))\n",
        "array.sort() # 이진탐색을 수행하기 위해 사전에 정렬 수행\n",
        "\n",
        "# M(손님이 요청한 부품 개수) 입력\n",
        "m = int(input())\n",
        "\n",
        "# 손님이 확인 요청한 전체 부품 번호를 공백으로 구분하여 입력\n",
        "x = list(map(int, input().split()))\n",
        "\n",
        "# 손님이 확인 요청한 부품 번호를 하나씩 확인\n",
        "for i in x:\n",
        "  # 해당 부품이 존재하는지 확인\n",
        "  result = bin_search_loop(array, i, 0, n -1)\n",
        "  if result != None:\n",
        "    print(\"yes\", end=\" \")\n",
        "  else:\n",
        "    print(\"no\", end=\" \")"
      ],
      "metadata": {
        "colab": {
          "base_uri": "https://localhost:8080/"
        },
        "id": "qou2vdKzcdpG",
        "outputId": "0fe36c18-39eb-4337-98fc-593f93ec66ff"
      },
      "execution_count": 4,
      "outputs": [
        {
          "output_type": "stream",
          "name": "stdout",
          "text": [
            "5\n",
            "8 3 7 9 2\n",
            "3\n",
            "9 7 5\n",
            "yes yes no "
          ]
        }
      ]
    }
  ]
}