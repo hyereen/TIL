{
  "nbformat": 4,
  "nbformat_minor": 0,
  "metadata": {
    "colab": {
      "name": "다이나믹_프로그래밍.ipynb",
      "provenance": [],
      "collapsed_sections": []
    },
    "kernelspec": {
      "name": "python3",
      "display_name": "Python 3"
    },
    "language_info": {
      "name": "python"
    }
  },
  "cells": [
    {
      "cell_type": "code",
      "execution_count": null,
      "metadata": {
        "colab": {
          "base_uri": "https://localhost:8080/"
        },
        "id": "3W28zb1pyAH9",
        "outputId": "eb4338ba-7d30-42f2-9fb7-01352ffe8958"
      },
      "outputs": [
        {
          "output_type": "stream",
          "name": "stdout",
          "text": [
            "218922995834555169026\n"
          ]
        }
      ],
      "source": [
        "# 8-2 피보나치 수열 - 재귀적\n",
        "\n",
        "# 한 번 계산된 결과를 저장해두기 위한 리스트\n",
        "d = [0] * 100\n",
        "\n",
        "# 피보나치 함수를 재귀함수로 구현\n",
        "def fibo(x):\n",
        "  # 종료조건 \n",
        "  if x == 1 or x == 2:\n",
        "    return 1\n",
        "\n",
        "  # 이미 계산한 적 있으면 그대로 반환\n",
        "  if d[x] != 0:\n",
        "    return d[x]\n",
        "  \n",
        "  # 아직 계산하지 않았다면 점화식에 따라서 피보나치 결과 반환\n",
        "  d[x] = fibo(x-1) + fibo(x-2)\n",
        "  return d[x]\n",
        "\n",
        "print(fibo(99))"
      ]
    },
    {
      "cell_type": "code",
      "source": [
        "# 8-4 피보나치 수열 - 반복적\n",
        "d = [0] * 100\n",
        "\n",
        "# 초기화\n",
        "d[1] = 1\n",
        "d[2] = 1\n",
        "n = 99\n",
        "\n",
        "for i in range(3, n+1):\n",
        "  d[i] = d[i-1] + d[i-2]\n",
        "\n",
        "print(d[n])"
      ],
      "metadata": {
        "colab": {
          "base_uri": "https://localhost:8080/"
        },
        "id": "5YhT74P_GA8y",
        "outputId": "91d509c0-66c0-47ea-e6bb-eaa8e7c57f77"
      },
      "execution_count": null,
      "outputs": [
        {
          "output_type": "stream",
          "name": "stdout",
          "text": [
            "218922995834555169026\n"
          ]
        }
      ]
    },
    {
      "cell_type": "code",
      "source": [
        "# 8-5 1로 만들기\n",
        "# 정수 x\n",
        "x = int(input())\n",
        "\n",
        "# 앞서 계산된 결과를 저장하기 위해\n",
        "d = [0] * 30001\n",
        "\n",
        "# 다이나믹 프로그래밍 \n",
        "for i in range(2, x+1):\n",
        "  # 현재의 수에서 1을 빼는 경우\n",
        "  d[i] = d[i-1] + 1\n",
        "  # 현재의 수가 2로 나누어 떨어지는 경우\n",
        "  if i % 2 == 0:\n",
        "    d[i] = min(d[i], d[i//2] + 1)\n",
        "\n",
        "  # 현재의 수가 2로 나누어 떨어지는 경우\n",
        "  if i % 3 == 0:\n",
        "    d[i] = min(d[i], d[i//3] + 1)\n",
        "  \n",
        "  # 현재의 수가 5로 나누어 떨어지는 경우\n",
        "  if i % 5 == 0:\n",
        "    d[i] = min(d[i], d[i//5] + 1)\n",
        "\n",
        "print(d[x])  "
      ],
      "metadata": {
        "colab": {
          "base_uri": "https://localhost:8080/"
        },
        "id": "NBK0KIGBXTVq",
        "outputId": "6e276606-ec50-4649-b6d9-1a9adf1a46b6"
      },
      "execution_count": null,
      "outputs": [
        {
          "output_type": "stream",
          "name": "stdout",
          "text": [
            "26\n",
            "3\n"
          ]
        }
      ]
    },
    {
      "cell_type": "code",
      "source": [
        "# 8-6 개미 전사\n",
        "\n",
        "n = int(input())\n",
        "# 모든 식량 정보 입력 받기\n",
        "array = list(map(int, input().split()))\n",
        "\n",
        "# 앞서 계산된 결과를 저장하기 위해\n",
        "d = [0] * 100\n",
        "\n",
        "d[0] = array[0]\n",
        "d[1] = max(array[0], array[1])\n",
        "\n",
        "for i in range(2,n):\n",
        "  d[i] = max(d[i-1], d[i-2]+array[i])\n",
        "\n",
        "  print(d[n-1])"
      ],
      "metadata": {
        "id": "vmB2RrTUYBXI"
      },
      "execution_count": null,
      "outputs": []
    },
    {
      "cell_type": "code",
      "source": [
        "# 8-7 바닥 공사\n",
        "\n",
        "n = int(input())\n",
        "d = [0] * 1001\n",
        "\n",
        "d[1] = 1\n",
        "d[2] = 3\n",
        "\n",
        "for i in range(3, n+1):\n",
        "  d[i] = (d[i-1]+2*d[i-2]) % 796796\n",
        "\n",
        "print(d[n])"
      ],
      "metadata": {
        "colab": {
          "base_uri": "https://localhost:8080/"
        },
        "id": "aEmS3B2MfK7O",
        "outputId": "66a66405-5304-418e-93df-bc00a85d5ae1"
      },
      "execution_count": 1,
      "outputs": [
        {
          "output_type": "stream",
          "name": "stdout",
          "text": [
            "3\n",
            "5\n"
          ]
        }
      ]
    },
    {
      "cell_type": "code",
      "source": [
        ""
      ],
      "metadata": {
        "id": "KrPwcn4xjHoP"
      },
      "execution_count": null,
      "outputs": []
    }
  ]
}