{
  "nbformat": 4,
  "nbformat_minor": 0,
  "metadata": {
    "colab": {
      "name": "다이나믹_프로그래밍.ipynb",
      "provenance": []
    },
    "kernelspec": {
      "name": "python3",
      "display_name": "Python 3"
    },
    "language_info": {
      "name": "python"
    }
  },
  "cells": [
    {
      "cell_type": "code",
      "execution_count": 1,
      "metadata": {
        "colab": {
          "base_uri": "https://localhost:8080/"
        },
        "id": "3W28zb1pyAH9",
        "outputId": "eb4338ba-7d30-42f2-9fb7-01352ffe8958"
      },
      "outputs": [
        {
          "output_type": "stream",
          "name": "stdout",
          "text": [
            "218922995834555169026\n"
          ]
        }
      ],
      "source": [
        "# 8-2 피보나치 수열 - 재귀적\n",
        "\n",
        "# 한 번 계산된 결과를 저장해두기 위한 리스트\n",
        "d = [0] * 100\n",
        "\n",
        "# 피보나치 함수를 재귀함수로 구현\n",
        "def fibo(x):\n",
        "  # 종료조건 \n",
        "  if x == 1 or x == 2:\n",
        "    return 1\n",
        "\n",
        "  # 이미 계산한 적 있으면 그대로 반환\n",
        "  if d[x] != 0:\n",
        "    return d[x]\n",
        "  \n",
        "  # 아직 계산하지 않았다면 점화식에 따라서 피보나치 결과 반환\n",
        "  d[x] = fibo(x-1) + fibo(x-2)\n",
        "  return d[x]\n",
        "\n",
        "print(fibo(99))"
      ]
    },
    {
      "cell_type": "code",
      "source": [
        "# 8-4 피보나치 수열 - 반복적\n",
        "d = [0] * 100\n",
        "\n",
        "# 초기화\n",
        "d[1] = 1\n",
        "d[2] = 1\n",
        "n = 99\n",
        "\n",
        "for i in range(3, n+1):\n",
        "  d[i] = d[i-1] + d[i-2]\n",
        "\n",
        "print(d[n])"
      ],
      "metadata": {
        "colab": {
          "base_uri": "https://localhost:8080/"
        },
        "id": "5YhT74P_GA8y",
        "outputId": "91d509c0-66c0-47ea-e6bb-eaa8e7c57f77"
      },
      "execution_count": 2,
      "outputs": [
        {
          "output_type": "stream",
          "name": "stdout",
          "text": [
            "218922995834555169026\n"
          ]
        }
      ]
    }
  ]
}