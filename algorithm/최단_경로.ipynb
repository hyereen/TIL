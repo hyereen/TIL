{
  "nbformat": 4,
  "nbformat_minor": 0,
  "metadata": {
    "colab": {
      "name": "최단_경로.ipynb",
      "provenance": [],
      "collapsed_sections": []
    },
    "kernelspec": {
      "name": "python3",
      "display_name": "Python 3"
    },
    "language_info": {
      "name": "python"
    }
  },
  "cells": [
    {
      "cell_type": "code",
      "execution_count": null,
      "metadata": {
        "id": "sphxi0-N3YCB"
      },
      "outputs": [],
      "source": [
        "# 9-1 간단한 다익스트라 알고리즘 \n",
        "\n",
        "import sys\n",
        "input = sys.stdin.readline\n",
        "INF = int(1e9)\n",
        "\n",
        "# 노드의 개수, 간선 개수\n",
        "n, m = map(int, input().split())\n",
        "\n",
        "# 시작 노드 입력\n",
        "start = int(input())\n",
        "graph = [[] for i in range(n+1)]\n",
        "visited = [False]*(n+1)\n",
        "distance = [INF]*(n+1)\n",
        "\n",
        "for _ in range(m):\n",
        "    a,b,c, = map(int, input().split())\n",
        "    # a번 노드에서 b번 노드로 가는 비용이 c\n",
        "    graph[a].append((b,c))\n",
        "\n",
        "def get_smallest_node():\n",
        "    min_value = INF\n",
        "    index = 0\n",
        "    for i in range(1, n+1):\n",
        "        if distance[i] < min_value and not visited[i]:\n",
        "            min_value = distance[i]\n",
        "            index = i\n",
        "    return index\n",
        "\n",
        "def dijkstra(start):\n",
        "    distance[start]=0\n",
        "    visited[start]=True\n",
        "\n",
        "    for j in graph[start]:\n",
        "        distance[j[0]] = j[1]\n",
        "        \n",
        "    for i in range(n-1):\n",
        "        now = get_smallest_node()\n",
        "        visited[now]=True\n",
        "        for j in graph[now]:\n",
        "            cost = distance[now]+j[1]\n",
        "            if cost < distance[j[0]]:\n",
        "                distance[j[0]]=cost\n",
        "\n",
        "dijkstra(start)\n",
        "for i in range(1, n+1):\n",
        "    if distance[i]==INF:\n",
        "        print(\"INF \")\n",
        "    else: print(distance[i])"
      ]
    }
  ]
}