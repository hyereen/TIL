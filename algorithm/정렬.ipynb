{
  "nbformat": 4,
  "nbformat_minor": 0,
  "metadata": {
    "colab": {
      "name": "정렬.ipynb",
      "provenance": []
    },
    "kernelspec": {
      "name": "python3",
      "display_name": "Python 3"
    },
    "language_info": {
      "name": "python"
    }
  },
  "cells": [
    {
      "cell_type": "code",
      "execution_count": 1,
      "metadata": {
        "id": "Ne5B5na6qRUs",
        "colab": {
          "base_uri": "https://localhost:8080/"
        },
        "outputId": "5e4f86da-358e-4c7c-f7a9-516a06712d89"
      },
      "outputs": [
        {
          "output_type": "stream",
          "name": "stdout",
          "text": [
            "3\n",
            "10\n",
            "11\n",
            "100\n",
            "100 11 10 "
          ]
        }
      ],
      "source": [
        "# 6-10 위에서 아래로\n",
        "\n",
        "# N을 입력받기\n",
        "n = int(input())\n",
        "\n",
        "# N개의 정수를 입력받아 리스트에 저장\n",
        "array = []\n",
        "for i in range(n):\n",
        "  array.append(int(input()))\n",
        "\n",
        "# 파이썬 기본 정렬 라이브러리를 이용하여 정렬 수행\n",
        "array = sorted(array, reverse=True)\n",
        "\n",
        "# 정렬이 수행된 결과를 출력\n",
        "for i in array:\n",
        "  print(i, end=' ')"
      ]
    },
    {
      "cell_type": "code",
      "source": [
        "# 6-11 성적이 낮은 순서대로 학생 출력하기\n",
        "\n",
        "# N을 입력받기\n",
        "n = int(input())\n",
        "\n",
        "# N개의 정수를 입력받아 리스트에 저장\n",
        "array = []\n",
        "for i in range(n):\n",
        "  input_data = input().split()\n",
        "  # 이름은 문자열로, 점수는 정수로 변환하여 저장\n",
        "  array.append((input_data[0], int(input_data[1])))\n",
        "\n",
        "# 키를 이용하여 점수를 기준으로 정렬\n",
        "array = sorted(array, key=lambda student: student[1])\n",
        "\n",
        "# 정렬이 수행된 결과를 출력\n",
        "for student in array:\n",
        "  print(student[0], end=' ')"
      ],
      "metadata": {
        "colab": {
          "base_uri": "https://localhost:8080/"
        },
        "id": "tHK2tHekAQ6i",
        "outputId": "194754e9-bf3c-433f-86ad-bcec98a2e688"
      },
      "execution_count": 2,
      "outputs": [
        {
          "output_type": "stream",
          "name": "stdout",
          "text": [
            "2\n",
            "홍길동 95\n",
            "이순신 77\n",
            "이순신 홍길동 "
          ]
        }
      ]
    },
    {
      "cell_type": "code",
      "source": [
        "# 6-12 두 배열의 원소 교체\n",
        "\n",
        "# n과 k 입력받기\n",
        "n, k = map(int, input().split())\n",
        "\n",
        "# 배열 A,B의 원소 입력받기\n",
        "a = list(map(int, input().split()))\n",
        "b = list(map(int, input().split()))\n",
        "\n",
        "# a배열은 오름차순\n",
        "a.sort()\n",
        "# b배열은 내림차순\n",
        "b.sort(reverse=True)\n",
        "\n",
        "# 최대 k번 바꿀 수 있으니까 k번동안 반복\n",
        "for i in range(k):\n",
        "  # a의 원소가 b의 원소보다 작은경우\n",
        "  if a[i] < b[i]:\n",
        "    # 두 원소 교체\n",
        "    a[i], b[i] = b[i], a[i]\n",
        "  else: # a 원소가 b원소보다 크거나 같으면 더이상 바꿀 필요가 없으므로 반복문 탈출\n",
        "    break\n",
        "\n",
        "print(sum(a))"
      ],
      "metadata": {
        "colab": {
          "base_uri": "https://localhost:8080/"
        },
        "id": "CXR8WXaKBH26",
        "outputId": "7b2efb90-c1f5-46fd-c1ed-42b878622df5"
      },
      "execution_count": 3,
      "outputs": [
        {
          "output_type": "stream",
          "name": "stdout",
          "text": [
            "5 3\n",
            "1 2 5 4 3\n",
            "5 5 6 6 5\n",
            "26\n"
          ]
        }
      ]
    },
    {
      "cell_type": "code",
      "source": [
        ""
      ],
      "metadata": {
        "id": "RDPxxS5zGXPG"
      },
      "execution_count": null,
      "outputs": []
    }
  ]
}