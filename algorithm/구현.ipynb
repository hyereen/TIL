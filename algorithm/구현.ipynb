{
  "cells": [
    {
      "cell_type": "code",
      "execution_count": 2,
      "metadata": {
        "id": "KJslDlOby0ON"
      },
      "outputs": [],
      "source": [
        "# 예제 4-1"
      ]
    },
    {
      "cell_type": "code",
      "execution_count": 5,
      "metadata": {
        "colab": {
          "base_uri": "https://localhost:8080/"
        },
        "id": "Ca_NkpgM1SRB",
        "outputId": "2ccfa458-8f22-45b0-d6cd-1282eff83738"
      },
      "outputs": [],
      "source": [
        "n = int(input())"
      ]
    },
    {
      "cell_type": "code",
      "execution_count": 6,
      "metadata": {
        "colab": {
          "base_uri": "https://localhost:8080/"
        },
        "id": "9E0PVyim1h01",
        "outputId": "06559500-fe67-415e-c12c-15af449f75d0"
      },
      "outputs": [],
      "source": [
        "plan = input()"
      ]
    },
    {
      "cell_type": "code",
      "execution_count": 7,
      "metadata": {
        "colab": {
          "base_uri": "https://localhost:8080/"
        },
        "id": "H3AIsTKy1rag",
        "outputId": "e2b9ee89-8bfb-4e42-9757-b894b74ec642"
      },
      "outputs": [
        {
          "name": "stdout",
          "output_type": "stream",
          "text": [
            "<class 'list'>\n",
            "['R', 'R', 'R', 'U', 'D', 'D']\n"
          ]
        }
      ],
      "source": [
        "plan_list = plan.split()\n",
        "print(type(plan_list))\n",
        "print(plan_list)"
      ]
    },
    {
      "cell_type": "code",
      "execution_count": 8,
      "metadata": {
        "id": "gxs4FWzn2WRd"
      },
      "outputs": [],
      "source": [
        "row, col = 1, 1"
      ]
    },
    {
      "cell_type": "code",
      "execution_count": 9,
      "metadata": {
        "colab": {
          "base_uri": "https://localhost:8080/"
        },
        "id": "Q3KsNDSo17KM",
        "outputId": "abcde4ac-d934-4a92-8288-067635c5e2a9"
      },
      "outputs": [
        {
          "name": "stdout",
          "output_type": "stream",
          "text": [
            "1 1\n",
            "R\n",
            "1 2\n",
            "R\n",
            "1 3\n",
            "R\n",
            "1 4\n",
            "U\n",
            "1 4\n",
            "D\n",
            "2 4\n",
            "D\n",
            "3 4\n"
          ]
        }
      ],
      "source": [
        "for i in range(len(plan_list)):\n",
        "  print(row, col)\n",
        "  if plan_list[i] == 'R' or plan_list[i] == 'L':\n",
        "    if plan_list[i] == 'R':\n",
        "      col = col + 1\n",
        "      print('R')\n",
        "    else: # L\n",
        "      col = col - 1\n",
        "      print('L')\n",
        "    \n",
        "    if col < 1:\n",
        "      col = col + 1\n",
        "      print('<1')\n",
        "    if col > n:\n",
        "      col = col - 1\n",
        "      print('>n')\n",
        "  \n",
        "  else: # U, D\n",
        "    if plan_list[i] == 'U':\n",
        "      row = row - 1\n",
        "      print('U')\n",
        "    else: # D\n",
        "      row = row + 1\n",
        "      print('D')\n",
        "    \n",
        "    if row < 1:\n",
        "      row = row + 1\n",
        "    if row > n:\n",
        "      row = row - 1\n",
        "\n",
        "print(row, col) "
      ]
    },
    {
      "cell_type": "code",
      "execution_count": 14,
      "metadata": {
        "id": "tIR6UJ4A3lbZ"
      },
      "outputs": [],
      "source": [
        "# 예제 4a-2"
      ]
    },
    {
      "cell_type": "code",
      "execution_count": 25,
      "metadata": {},
      "outputs": [],
      "source": [
        "n = int(input())"
      ]
    },
    {
      "cell_type": "code",
      "execution_count": 34,
      "metadata": {},
      "outputs": [
        {
          "name": "stdout",
          "output_type": "stream",
          "text": [
            "11475\n"
          ]
        }
      ],
      "source": [
        "cnt = 0\n",
        "h = 0\n",
        "m = 0\n",
        "s = 0\n",
        "is_three = 0\n",
        "for h in range(0,n+1):\n",
        "    for m in range(0, 60):\n",
        "        for s in range(0, 60):\n",
        "            if '3' in str(h)+str(m)+str(s):\n",
        "                cnt = cnt + 1\n",
        "\n",
        "print(cnt)"
      ]
    },
    {
      "cell_type": "code",
      "execution_count": 1,
      "metadata": {},
      "outputs": [],
      "source": [
        "# 4-3"
      ]
    },
    {
      "cell_type": "code",
      "execution_count": 12,
      "metadata": {},
      "outputs": [
        {
          "name": "stdout",
          "output_type": "stream",
          "text": [
            "6\n"
          ]
        }
      ],
      "source": [
        "now = input()\n",
        "\n",
        "row = int(now[1])\n",
        "col = int(ord(now[0])) - int(ord('a')) + 1\n",
        "\n",
        "steps = [(-2, -1), (-2, +1), (-1, -2), (-1, +2), (+1, -2), (+1, +2), (+2, +1), (+2, -1)]\n",
        "\n",
        "way = 0\n",
        "for step in steps:\n",
        "    next_row = row + step[0]\n",
        "    next_col = col + step[1]\n",
        "\n",
        "    if next_row >=1 and next_row <= 8 and next_col >=1 and next_col <=8:\n",
        "        way +=1\n",
        "\n",
        "\n",
        "print(way)"
      ]
    },
    {
      "cell_type": "code",
      "execution_count": 2,
      "metadata": {},
      "outputs": [
        {
          "name": "stdout",
          "output_type": "stream",
          "text": [
            "3\n"
          ]
        }
      ],
      "source": [
        "# 4-4#n,m 입력받기\n",
        "n, m =map(int, input().split())\n",
        "\n",
        "#방문한 위치를 저장하기 위한 맵 생성 및 초기화\n",
        "d = [[0] * m for _ in range(n)]\n",
        "\n",
        "#현재 캐릭터의 X좌표, Y좌표, 방향을 입력받기\n",
        "x,y,direction = map(int, input().split())\n",
        "d[x][y]=1 #현재 좌표 방문 처리\n",
        "\n",
        "#전체 맵 정보를 입력받기\n",
        "array=[]\n",
        "for i in range(n):\n",
        "    array.append(list(map(int, input().split())))\n",
        "\n",
        "\n",
        "#방향 정의\n",
        "#북(-1,0) 동(0,1) 남(1,0) 서(0, -1)\n",
        "dx = [-1,0,1,0]\n",
        "dy = [0,1,0,-1]\n",
        "\n",
        "#왼쪽으로 회전하는 함수\n",
        "def turn_left():\n",
        "    global direction #전역변수 선언\n",
        "    direction -= 1\n",
        "    if direction == -1:\n",
        "        direction = 3\n",
        "\n",
        "\n",
        "#시뮬레이션 시작\n",
        "count = 1\n",
        "turn_time = 0\n",
        "\n",
        "while True:\n",
        "    #왼쪽으로 회전\n",
        "    turn_left()\n",
        "    nx = x + dx[direction]\n",
        "    ny = y + dy[direction]\n",
        "\n",
        "    #회전한 이후 정면에 가보지 않은 칸이 존재하는 경우 이동\n",
        "    if d[nx][ny]==0 and array[nx][ny]==0:\n",
        "        d[nx][ny]=1\n",
        "        x=nx\n",
        "        y=ny\n",
        "        count += 1\n",
        "        turn_time=0\n",
        "        continue\n",
        "    \n",
        "    #회전했는데 못가는 경우\n",
        "    else:\n",
        "        turn_time += 1\n",
        "\n",
        "    #네 방향 모두 못가는 경우\n",
        "    if turn_time==4:\n",
        "        nx = x - dx[direction]\n",
        "        ny = y - dx[direction]\n",
        "        \n",
        "        #뒤로 갈 수 있으면 이동하기\n",
        "        if array[nx][ny]==0:\n",
        "            x=nx\n",
        "            y=ny\n",
        "        #뒤가 바다로 막힌 경우\n",
        "        else:\n",
        "            break\n",
        "        turn_time=0\n",
        "\n",
        "\n",
        "print(count)"
      ]
    },
    {
      "cell_type": "code",
      "execution_count": null,
      "metadata": {},
      "outputs": [],
      "source": [
        "                                                                                                                                                                                                                                                                                                                                                                                          "
      ]
    }
  ],
  "metadata": {
    "colab": {
      "collapsed_sections": [],
      "name": "구현.ipynb",
      "provenance": []
    },
    "interpreter": {
      "hash": "e44fe1d9ff3dfa61412591632cdc504e6e43f6ef8ecf1e1e02f34bcfa0ab6fa0"
    },
    "kernelspec": {
      "display_name": "Python 3.7.8 64-bit",
      "name": "python3"
    },
    "language_info": {
      "codemirror_mode": {
        "name": "ipython",
        "version": 3
      },
      "file_extension": ".py",
      "mimetype": "text/x-python",
      "name": "python",
      "nbconvert_exporter": "python",
      "pygments_lexer": "ipython3",
      "version": "3.7.8"
    }
  },
  "nbformat": 4,
  "nbformat_minor": 2
}
