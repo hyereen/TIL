{
  "nbformat": 4,
  "nbformat_minor": 2,
  "metadata": {
    "colab": {
      "name": "구현.ipynb",
      "provenance": [],
      "collapsed_sections": []
    },
    "kernelspec": {
      "name": "python3",
      "display_name": "Python 3.7.8 64-bit"
    },
    "language_info": {
      "name": "python",
      "version": "3.7.8",
      "mimetype": "text/x-python",
      "codemirror_mode": {
        "name": "ipython",
        "version": 3
      },
      "pygments_lexer": "ipython3",
      "nbconvert_exporter": "python",
      "file_extension": ".py"
    },
    "interpreter": {
      "hash": "e44fe1d9ff3dfa61412591632cdc504e6e43f6ef8ecf1e1e02f34bcfa0ab6fa0"
    }
  },
  "cells": [
    {
      "cell_type": "code",
      "execution_count": 2,
      "source": [
        "# 예제 4-1"
      ],
      "outputs": [],
      "metadata": {
        "id": "KJslDlOby0ON"
      }
    },
    {
      "cell_type": "code",
      "execution_count": 5,
      "source": [
        "n = int(input())"
      ],
      "outputs": [],
      "metadata": {
        "colab": {
          "base_uri": "https://localhost:8080/"
        },
        "id": "Ca_NkpgM1SRB",
        "outputId": "2ccfa458-8f22-45b0-d6cd-1282eff83738"
      }
    },
    {
      "cell_type": "code",
      "execution_count": 6,
      "source": [
        "plan = input()"
      ],
      "outputs": [],
      "metadata": {
        "colab": {
          "base_uri": "https://localhost:8080/"
        },
        "id": "9E0PVyim1h01",
        "outputId": "06559500-fe67-415e-c12c-15af449f75d0"
      }
    },
    {
      "cell_type": "code",
      "execution_count": 7,
      "source": [
        "plan_list = plan.split()\r\n",
        "print(type(plan_list))\r\n",
        "print(plan_list)"
      ],
      "outputs": [
        {
          "output_type": "stream",
          "name": "stdout",
          "text": [
            "<class 'list'>\n",
            "['R', 'R', 'R', 'U', 'D', 'D']\n"
          ]
        }
      ],
      "metadata": {
        "colab": {
          "base_uri": "https://localhost:8080/"
        },
        "id": "H3AIsTKy1rag",
        "outputId": "e2b9ee89-8bfb-4e42-9757-b894b74ec642"
      }
    },
    {
      "cell_type": "code",
      "execution_count": 8,
      "source": [
        "row, col = 1, 1"
      ],
      "outputs": [],
      "metadata": {
        "id": "gxs4FWzn2WRd"
      }
    },
    {
      "cell_type": "code",
      "execution_count": 9,
      "source": [
        "for i in range(len(plan_list)):\r\n",
        "  print(row, col)\r\n",
        "  if plan_list[i] == 'R' or plan_list[i] == 'L':\r\n",
        "    if plan_list[i] == 'R':\r\n",
        "      col = col + 1\r\n",
        "      print('R')\r\n",
        "    else: # L\r\n",
        "      col = col - 1\r\n",
        "      print('L')\r\n",
        "    \r\n",
        "    if col < 1:\r\n",
        "      col = col + 1\r\n",
        "      print('<1')\r\n",
        "    if col > n:\r\n",
        "      col = col - 1\r\n",
        "      print('>n')\r\n",
        "  \r\n",
        "  else: # U, D\r\n",
        "    if plan_list[i] == 'U':\r\n",
        "      row = row - 1\r\n",
        "      print('U')\r\n",
        "    else: # D\r\n",
        "      row = row + 1\r\n",
        "      print('D')\r\n",
        "    \r\n",
        "    if row < 1:\r\n",
        "      row = row + 1\r\n",
        "    if row > n:\r\n",
        "      row = row - 1\r\n",
        "\r\n",
        "print(row, col) "
      ],
      "outputs": [
        {
          "output_type": "stream",
          "name": "stdout",
          "text": [
            "1 1\n",
            "R\n",
            "1 2\n",
            "R\n",
            "1 3\n",
            "R\n",
            "1 4\n",
            "U\n",
            "1 4\n",
            "D\n",
            "2 4\n",
            "D\n",
            "3 4\n"
          ]
        }
      ],
      "metadata": {
        "colab": {
          "base_uri": "https://localhost:8080/"
        },
        "id": "Q3KsNDSo17KM",
        "outputId": "abcde4ac-d934-4a92-8288-067635c5e2a9"
      }
    },
    {
      "cell_type": "code",
      "execution_count": 14,
      "source": [
        "# 예제 4a-2"
      ],
      "outputs": [],
      "metadata": {
        "id": "tIR6UJ4A3lbZ"
      }
    },
    {
      "cell_type": "code",
      "execution_count": 25,
      "source": [
        "n = int(input())"
      ],
      "outputs": [],
      "metadata": {}
    },
    {
      "cell_type": "code",
      "execution_count": 34,
      "source": [
        "cnt = 0\r\n",
        "h = 0\r\n",
        "m = 0\r\n",
        "s = 0\r\n",
        "is_three = 0\r\n",
        "for h in range(0,n+1):\r\n",
        "    for m in range(0, 60):\r\n",
        "        for s in range(0, 60):\r\n",
        "            if '3' in str(h)+str(m)+str(s):\r\n",
        "                cnt = cnt + 1\r\n",
        "\r\n",
        "print(cnt)"
      ],
      "outputs": [
        {
          "output_type": "stream",
          "name": "stdout",
          "text": [
            "11475\n"
          ]
        }
      ],
      "metadata": {}
    },
    {
      "cell_type": "code",
      "execution_count": null,
      "source": [],
      "outputs": [],
      "metadata": {}
    },
    {
      "cell_type": "code",
      "execution_count": null,
      "source": [],
      "outputs": [],
      "metadata": {}
    }
  ]
}