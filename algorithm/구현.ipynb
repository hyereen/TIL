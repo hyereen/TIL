{
  "cells": [
    {
      "cell_type": "code",
      "execution_count": 2,
      "metadata": {
        "id": "KJslDlOby0ON"
      },
      "outputs": [],
      "source": [
        "# 예제 4-1"
      ]
    },
    {
      "cell_type": "code",
      "execution_count": 5,
      "metadata": {
        "colab": {
          "base_uri": "https://localhost:8080/"
        },
        "id": "Ca_NkpgM1SRB",
        "outputId": "2ccfa458-8f22-45b0-d6cd-1282eff83738"
      },
      "outputs": [],
      "source": [
        "n = int(input())"
      ]
    },
    {
      "cell_type": "code",
      "execution_count": 6,
      "metadata": {
        "colab": {
          "base_uri": "https://localhost:8080/"
        },
        "id": "9E0PVyim1h01",
        "outputId": "06559500-fe67-415e-c12c-15af449f75d0"
      },
      "outputs": [],
      "source": [
        "plan = input()"
      ]
    },
    {
      "cell_type": "code",
      "execution_count": 7,
      "metadata": {
        "colab": {
          "base_uri": "https://localhost:8080/"
        },
        "id": "H3AIsTKy1rag",
        "outputId": "e2b9ee89-8bfb-4e42-9757-b894b74ec642"
      },
      "outputs": [
        {
          "name": "stdout",
          "output_type": "stream",
          "text": [
            "<class 'list'>\n",
            "['R', 'R', 'R', 'U', 'D', 'D']\n"
          ]
        }
      ],
      "source": [
        "plan_list = plan.split()\n",
        "print(type(plan_list))\n",
        "print(plan_list)"
      ]
    },
    {
      "cell_type": "code",
      "execution_count": 8,
      "metadata": {
        "id": "gxs4FWzn2WRd"
      },
      "outputs": [],
      "source": [
        "row, col = 1, 1"
      ]
    },
    {
      "cell_type": "code",
      "execution_count": 9,
      "metadata": {
        "colab": {
          "base_uri": "https://localhost:8080/"
        },
        "id": "Q3KsNDSo17KM",
        "outputId": "abcde4ac-d934-4a92-8288-067635c5e2a9"
      },
      "outputs": [
        {
          "name": "stdout",
          "output_type": "stream",
          "text": [
            "1 1\n",
            "R\n",
            "1 2\n",
            "R\n",
            "1 3\n",
            "R\n",
            "1 4\n",
            "U\n",
            "1 4\n",
            "D\n",
            "2 4\n",
            "D\n",
            "3 4\n"
          ]
        }
      ],
      "source": [
        "for i in range(len(plan_list)):\n",
        "  print(row, col)\n",
        "  if plan_list[i] == 'R' or plan_list[i] == 'L':\n",
        "    if plan_list[i] == 'R':\n",
        "      col = col + 1\n",
        "      print('R')\n",
        "    else: # L\n",
        "      col = col - 1\n",
        "      print('L')\n",
        "    \n",
        "    if col < 1:\n",
        "      col = col + 1\n",
        "      print('<1')\n",
        "    if col > n:\n",
        "      col = col - 1\n",
        "      print('>n')\n",
        "  \n",
        "  else: # U, D\n",
        "    if plan_list[i] == 'U':\n",
        "      row = row - 1\n",
        "      print('U')\n",
        "    else: # D\n",
        "      row = row + 1\n",
        "      print('D')\n",
        "    \n",
        "    if row < 1:\n",
        "      row = row + 1\n",
        "    if row > n:\n",
        "      row = row - 1\n",
        "\n",
        "print(row, col) "
      ]
    },
    {
      "cell_type": "code",
      "execution_count": 14,
      "metadata": {
        "id": "tIR6UJ4A3lbZ"
      },
      "outputs": [],
      "source": [
        "# 예제 4a-2"
      ]
    },
    {
      "cell_type": "code",
      "execution_count": 25,
      "metadata": {},
      "outputs": [],
      "source": [
        "n = int(input())"
      ]
    },
    {
      "cell_type": "code",
      "execution_count": 34,
      "metadata": {},
      "outputs": [
        {
          "name": "stdout",
          "output_type": "stream",
          "text": [
            "11475\n"
          ]
        }
      ],
      "source": [
        "cnt = 0\n",
        "h = 0\n",
        "m = 0\n",
        "s = 0\n",
        "is_three = 0\n",
        "for h in range(0,n+1):\n",
        "    for m in range(0, 60):\n",
        "        for s in range(0, 60):\n",
        "            if '3' in str(h)+str(m)+str(s):\n",
        "                cnt = cnt + 1\n",
        "\n",
        "print(cnt)"
      ]
    },
    {
      "cell_type": "code",
      "execution_count": 1,
      "metadata": {},
      "outputs": [],
      "source": [
        "# 4-3"
      ]
    },
    {
      "cell_type": "code",
      "execution_count": 12,
      "metadata": {},
      "outputs": [
        {
          "name": "stdout",
          "output_type": "stream",
          "text": [
            "6\n"
          ]
        }
      ],
      "source": [
        "now = input()\n",
        "\n",
        "row = int(now[1])\n",
        "col = int(ord(now[0])) - int(ord('a')) + 1\n",
        "\n",
        "steps = [(-2, -1), (-2, +1), (-1, -2), (-1, +2), (+1, -2), (+1, +2), (+2, +1), (+2, -1)]\n",
        "\n",
        "way = 0\n",
        "for step in steps:\n",
        "    next_row = row + step[0]\n",
        "    next_col = col + step[1]\n",
        "\n",
        "    if next_row >=1 and next_row <= 8 and next_col >=1 and next_col <=8:\n",
        "        way +=1\n",
        "\n",
        "\n",
        "print(way)"
      ]
    },
    {
      "cell_type": "code",
      "execution_count": null,
      "metadata": {},
      "outputs": [],
      "source": []
    }
  ],
  "metadata": {
    "colab": {
      "collapsed_sections": [],
      "name": "구현.ipynb",
      "provenance": []
    },
    "interpreter": {
      "hash": "e44fe1d9ff3dfa61412591632cdc504e6e43f6ef8ecf1e1e02f34bcfa0ab6fa0"
    },
    "kernelspec": {
      "display_name": "Python 3.7.8 64-bit",
      "name": "python3"
    },
    "language_info": {
      "codemirror_mode": {
        "name": "ipython",
        "version": 3
      },
      "file_extension": ".py",
      "mimetype": "text/x-python",
      "name": "python",
      "nbconvert_exporter": "python",
      "pygments_lexer": "ipython3",
      "version": "3.7.8"
    }
  },
  "nbformat": 4,
  "nbformat_minor": 2
}
