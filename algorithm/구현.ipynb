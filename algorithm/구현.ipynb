{
  "nbformat": 4,
  "nbformat_minor": 0,
  "metadata": {
    "colab": {
      "name": "구현.ipynb",
      "provenance": [],
      "collapsed_sections": []
    },
    "kernelspec": {
      "name": "python3",
      "display_name": "Python 3"
    },
    "language_info": {
      "name": "python"
    }
  },
  "cells": [
    {
      "cell_type": "code",
      "metadata": {
        "id": "KJslDlOby0ON"
      },
      "source": [
        "# 예제 4-1"
      ],
      "execution_count": 1,
      "outputs": []
    },
    {
      "cell_type": "code",
      "metadata": {
        "colab": {
          "base_uri": "https://localhost:8080/"
        },
        "id": "Ca_NkpgM1SRB",
        "outputId": "2ccfa458-8f22-45b0-d6cd-1282eff83738"
      },
      "source": [
        "n = int(input())"
      ],
      "execution_count": 2,
      "outputs": [
        {
          "name": "stdout",
          "output_type": "stream",
          "text": [
            "5\n"
          ]
        }
      ]
    },
    {
      "cell_type": "code",
      "metadata": {
        "colab": {
          "base_uri": "https://localhost:8080/"
        },
        "id": "9E0PVyim1h01",
        "outputId": "06559500-fe67-415e-c12c-15af449f75d0"
      },
      "source": [
        "plan = input()"
      ],
      "execution_count": 29,
      "outputs": [
        {
          "name": "stdout",
          "output_type": "stream",
          "text": [
            "R R R U D D\n"
          ]
        }
      ]
    },
    {
      "cell_type": "code",
      "metadata": {
        "colab": {
          "base_uri": "https://localhost:8080/"
        },
        "id": "H3AIsTKy1rag",
        "outputId": "e2b9ee89-8bfb-4e42-9757-b894b74ec642"
      },
      "source": [
        "plan_list = plan.split()\n",
        "print(type(plan_list))\n",
        "print(plan_list)"
      ],
      "execution_count": 30,
      "outputs": [
        {
          "output_type": "stream",
          "name": "stdout",
          "text": [
            "<class 'list'>\n",
            "['R', 'R', 'R', 'U', 'D', 'D']\n"
          ]
        }
      ]
    },
    {
      "cell_type": "code",
      "metadata": {
        "id": "gxs4FWzn2WRd"
      },
      "source": [
        "row, col = 1, 1"
      ],
      "execution_count": 32,
      "outputs": []
    },
    {
      "cell_type": "code",
      "metadata": {
        "colab": {
          "base_uri": "https://localhost:8080/"
        },
        "id": "Q3KsNDSo17KM",
        "outputId": "abcde4ac-d934-4a92-8288-067635c5e2a9"
      },
      "source": [
        "for i in range(len(plan_list)):\n",
        "  print(row, col)\n",
        "  if plan_list[i] == 'R' or plan_list[i] == 'L':\n",
        "    if plan_list[i] == 'R':\n",
        "      col = col + 1\n",
        "      print('R')\n",
        "    else: # L\n",
        "      col = col - 1\n",
        "      print('L')\n",
        "    \n",
        "    if col < 1:\n",
        "      col = col + 1\n",
        "      print('<1')\n",
        "    if col > n:\n",
        "      col = col - 1\n",
        "      print('>n')\n",
        "  \n",
        "  else: # U, D\n",
        "    if plan_list[i] == 'U':\n",
        "      row = row - 1\n",
        "      print('U')\n",
        "    else: # D\n",
        "      row = row + 1\n",
        "      print('D')\n",
        "    \n",
        "    if row < 1:\n",
        "      row = row + 1\n",
        "    if row > n:\n",
        "      row = row - 1\n",
        "\n",
        "print(row, col) "
      ],
      "execution_count": 33,
      "outputs": [
        {
          "output_type": "stream",
          "name": "stdout",
          "text": [
            "1 1\n",
            "R\n",
            "1 2\n",
            "R\n",
            "1 3\n",
            "R\n",
            "1 4\n",
            "U\n",
            "1 4\n",
            "D\n",
            "2 4\n",
            "D\n",
            "3 4\n"
          ]
        }
      ]
    },
    {
      "cell_type": "code",
      "metadata": {
        "id": "tIR6UJ4A3lbZ"
      },
      "source": [
        ""
      ],
      "execution_count": null,
      "outputs": []
    }
  ]
}