{
 "cells": [
  {
   "cell_type": "markdown",
   "id": "8e3bc6be",
   "metadata": {},
   "source": [
    "# 광고 데이터를 활용한 데이터 분석\n",
    "- 출처: 패스트캠퍼스, 올인원 패키지 : 머신러닝과 데이터 분석 A TO Z\n",
    "\n",
    "\n",
    "- CTR Click Through Rate: 클릭수 / 노출수 * 100\n",
    "- CPM Cost Per Mile: 광고비용 / 노출수 * 1000\n",
    "- CPC Cost Per Click: 광고비용 / 클릭수\n",
    "- CPA Cost Per Action: 광고비용 / 구매수"
   ]
  },
  {
   "cell_type": "code",
   "execution_count": null,
   "id": "6f95f414",
   "metadata": {},
   "outputs": [],
   "source": []
  }
 ],
 "metadata": {
  "kernelspec": {
   "display_name": "ve_prac",
   "language": "python",
   "name": "ve_prac"
  },
  "language_info": {
   "codemirror_mode": {
    "name": "ipython",
    "version": 3
   },
   "file_extension": ".py",
   "mimetype": "text/x-python",
   "name": "python",
   "nbconvert_exporter": "python",
   "pygments_lexer": "ipython3",
   "version": "3.6.13"
  },
  "toc": {
   "base_numbering": 1,
   "nav_menu": {},
   "number_sections": true,
   "sideBar": true,
   "skip_h1_title": false,
   "title_cell": "Table of Contents",
   "title_sidebar": "Contents",
   "toc_cell": false,
   "toc_position": {},
   "toc_section_display": true,
   "toc_window_display": false
  }
 },
 "nbformat": 4,
 "nbformat_minor": 5
}
