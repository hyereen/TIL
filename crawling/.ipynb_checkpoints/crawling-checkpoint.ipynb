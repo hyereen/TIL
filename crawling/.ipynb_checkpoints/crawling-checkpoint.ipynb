{
 "cells": [
  {
   "cell_type": "markdown",
   "id": "ad8cacfc",
   "metadata": {},
   "source": [
    "# API의 활용 - 02. Open API를 활용하여 json 데이터 추출하기(공공데이터 api)"
   ]
  },
  {
   "cell_type": "code",
   "execution_count": 1,
   "id": "dc417ab9",
   "metadata": {},
   "outputs": [],
   "source": [
    "# endpoint확인하기"
   ]
  },
  {
   "cell_type": "code",
   "execution_count": 9,
   "id": "36889628",
   "metadata": {},
   "outputs": [],
   "source": [
    "serviceKey = 'ucrKftSHC%2Fc0JqxhUOYIeUF9uX0s7%2FVfAQQoG1mzEerpcSAf82sQXSI6K749XJnyTsFHWhcNlMIb%2Fwmtghns9Q%3D%3D'"
   ]
  },
  {
   "cell_type": "code",
   "execution_count": 10,
   "id": "fa2b9f94",
   "metadata": {},
   "outputs": [
    {
     "name": "stdout",
     "output_type": "stream",
     "text": [
      "http://api.visitkorea.or.kr/openapi/service/rest/EngService/areaCode?serviceKey=ucrKftSHC%2Fc0JqxhUOYIeUF9uX0s7%2FVfAQQoG1mzEerpcSAf82sQXSI6K749XJnyTsFHWhcNlMIb%2Fwmtghns9Q%3D%3D&numOfRows=10&pageSize=10&pageNo=1&MobileOS=ETC&MobileApp=AppTest\n"
     ]
    }
   ],
   "source": [
    "endpoint = 'http://api.visitkorea.or.kr/openapi/service/rest/EngService/areaCode?serviceKey={}&numOfRows=10&pageSize=10&pageNo=1&MobileOS=ETC&MobileApp=AppTest'.format(serviceKey)\n",
    "print(endpoint)"
   ]
  },
  {
   "cell_type": "code",
   "execution_count": null,
   "id": "0e5a4376",
   "metadata": {},
   "outputs": [],
   "source": []
  }
 ],
 "metadata": {
  "kernelspec": {
   "display_name": "ve_ta",
   "language": "python",
   "name": "ve_ta"
  },
  "language_info": {
   "codemirror_mode": {
    "name": "ipython",
    "version": 3
   },
   "file_extension": ".py",
   "mimetype": "text/x-python",
   "name": "python",
   "nbconvert_exporter": "python",
   "pygments_lexer": "ipython3",
   "version": "3.8.8"
  },
  "toc": {
   "base_numbering": 1,
   "nav_menu": {},
   "number_sections": true,
   "sideBar": true,
   "skip_h1_title": false,
   "title_cell": "Table of Contents",
   "title_sidebar": "Contents",
   "toc_cell": false,
   "toc_position": {},
   "toc_section_display": true,
   "toc_window_display": false
  }
 },
 "nbformat": 4,
 "nbformat_minor": 5
}
