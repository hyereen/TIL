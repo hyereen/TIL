{
 "cells": [
  {
   "cell_type": "markdown",
   "id": "3ef31287",
   "metadata": {},
   "source": [
    "출처\n",
    "- https://dataq.goorm.io/exam/116674/%EC%B2%B4%ED%97%98%ED%95%98%EA%B8%B0/quiz/1"
   ]
  },
  {
   "cell_type": "markdown",
   "id": "16e4bdc3",
   "metadata": {},
   "source": [
    "# 작업형 1\n",
    "mtcars 데이터셋의 qsec 컬럼을 최소최대척도로 변환한 후 0.5보다 큰 값을 가지는 레코드 수를 구하시오"
   ]
  },
  {
   "cell_type": "code",
   "execution_count": 1,
   "id": "fada4797",
   "metadata": {},
   "outputs": [
    {
     "name": "stdout",
     "output_type": "stream",
     "text": [
      "9\n"
     ]
    }
   ],
   "source": [
    "# 데이터 파일 읽기 예제\n",
    "import pandas as pd\n",
    "from sklearn.preprocessing import MinMaxScaler\n",
    "\n",
    "# 데이터 불러오기\n",
    "df = pd.read_csv('./mtcars.csv', index_col=0)\n",
    "\n",
    "# 최소최대 척도 변환\n",
    "scaler = MinMaxScaler()\n",
    "df[['qsec']] = scaler.fit_transform(df[['qsec']])\n",
    "\n",
    "# 답안\n",
    "print(len(df.loc[df.qsec > 0.5]))"
   ]
  },
  {
   "cell_type": "markdown",
   "id": "b796ea50",
   "metadata": {},
   "source": [
    "# 작업형 2\n",
    "학습용 데이터를 이용하여 성별예측 모형을 만든 후, 이를 평가용 데이터에 적용하여 얻은 2482명 고객의 성별 예측값(남자일 확률)을 다음과 같은 형식의 CSV파일로 생성하시오."
   ]
  },
  {
   "cell_type": "code",
   "execution_count": 2,
   "id": "5221153b",
   "metadata": {},
   "outputs": [],
   "source": [
    "# 데이터 파일 읽기 예제\n",
    "import pandas as pd\n",
    "x_test = pd.read_csv(\"./X_test.csv\", encoding=\"cp949\")\n",
    "x_train = pd.read_csv(\"./X_train.csv\", encoding=\"cp949\")\n",
    "y_train = pd.read_csv(\"./y_train.csv\", encoding=\"cp949\")"
   ]
  },
  {
   "cell_type": "code",
   "execution_count": 3,
   "id": "b78a24bd",
   "metadata": {},
   "outputs": [
    {
     "name": "stdout",
     "output_type": "stream",
     "text": [
      "   cust_id       총구매액     최대구매액        환불금액 주구매상품 주구매지점  내점일수    내점당구매건수  \\\n",
      "0     3500   70900400  22000000   4050000.0    골프  부산본점    13   1.461538   \n",
      "1     3501  310533100  38558000  48034700.0   농산물   잠실점    90   2.433333   \n",
      "2     3502  305264140  14825000  30521000.0  가공식품  본  점   101  14.623762   \n",
      "3     3503    7594080   5225000         NaN  주방용품  부산본점     5   2.000000   \n",
      "4     3504    1795790   1411200         NaN   수산품  청량리점     3   2.666667   \n",
      "\n",
      "     주말방문비율  구매주기  \n",
      "0  0.789474    26  \n",
      "1  0.369863     3  \n",
      "2  0.083277     3  \n",
      "3  0.000000    47  \n",
      "4  0.125000     8  \n",
      "   cust_id      총구매액     최대구매액       환불금액   주구매상품 주구매지점  내점일수   내점당구매건수  \\\n",
      "0        0  68282840  11264000  6860000.0      기타   강남점    19  3.894737   \n",
      "1        1   2136000   2136000   300000.0     스포츠   잠실점     2  1.500000   \n",
      "2        2   3197000   1639000        NaN  남성 캐주얼   관악점     2  2.000000   \n",
      "3        3  16077620   4935000        NaN      기타   광주점    18  2.444444   \n",
      "4        4  29050000  24000000        NaN      보석  본  점     2  1.500000   \n",
      "\n",
      "     주말방문비율  구매주기  \n",
      "0  0.527027    17  \n",
      "1  0.000000     1  \n",
      "2  0.000000     1  \n",
      "3  0.318182    16  \n",
      "4  0.000000    85  \n",
      "   cust_id  gender\n",
      "0        0       0\n",
      "1        1       0\n",
      "2        2       1\n",
      "3        3       1\n",
      "4        4       0\n",
      "<bound method NDFrame.describe of       cust_id       총구매액     최대구매액        환불금액   주구매상품 주구매지점  내점일수    내점당구매건수  \\\n",
      "0        3500   70900400  22000000   4050000.0      골프  부산본점    13   1.461538   \n",
      "1        3501  310533100  38558000  48034700.0     농산물   잠실점    90   2.433333   \n",
      "2        3502  305264140  14825000  30521000.0    가공식품  본  점   101  14.623762   \n",
      "3        3503    7594080   5225000         NaN    주방용품  부산본점     5   2.000000   \n",
      "4        3504    1795790   1411200         NaN     수산품  청량리점     3   2.666667   \n",
      "...       ...        ...       ...         ...     ...   ...   ...        ...   \n",
      "2477     5977   82581500  23976000         NaN      골프  부산본점     8   1.750000   \n",
      "2478     5978     480000    480000         NaN    섬유잡화   광주점     1   1.000000   \n",
      "2479     5979  260003790  25750000         NaN  남성 캐주얼  본  점    19   3.736842   \n",
      "2480     5980   88991520  18120000         NaN      육류  본  점     5   3.600000   \n",
      "2481     5981     623700    209000         NaN    가공식품  영등포점     2   5.000000   \n",
      "\n",
      "        주말방문비율  구매주기  \n",
      "0     0.789474    26  \n",
      "1     0.369863     3  \n",
      "2     0.083277     3  \n",
      "3     0.000000    47  \n",
      "4     0.125000     8  \n",
      "...        ...   ...  \n",
      "2477  0.642857    40  \n",
      "2478  0.000000     0  \n",
      "2479  0.915493    18  \n",
      "2480  0.444444    60  \n",
      "2481  0.000000    31  \n",
      "\n",
      "[2482 rows x 10 columns]>\n",
      "<bound method NDFrame.describe of       cust_id       총구매액     최대구매액       환불금액   주구매상품 주구매지점  내점일수   내점당구매건수  \\\n",
      "0           0   68282840  11264000  6860000.0      기타   강남점    19  3.894737   \n",
      "1           1    2136000   2136000   300000.0     스포츠   잠실점     2  1.500000   \n",
      "2           2    3197000   1639000        NaN  남성 캐주얼   관악점     2  2.000000   \n",
      "3           3   16077620   4935000        NaN      기타   광주점    18  2.444444   \n",
      "4           4   29050000  24000000        NaN      보석  본  점     2  1.500000   \n",
      "...       ...        ...       ...        ...     ...   ...   ...       ...   \n",
      "3495     3495    3175200   3042900        NaN      골프  본  점     1  2.000000   \n",
      "3496     3496   29628600   7200000  6049600.0    시티웨어  부산본점     8  1.625000   \n",
      "3497     3497      75000     75000        NaN    주방용품   창원점     1  1.000000   \n",
      "3498     3498    1875000   1000000        NaN     화장품  본  점     2  1.000000   \n",
      "3499     3499  263101550  34632000  5973000.0      기타  본  점    38  2.421053   \n",
      "\n",
      "        주말방문비율  구매주기  \n",
      "0     0.527027    17  \n",
      "1     0.000000     1  \n",
      "2     0.000000     1  \n",
      "3     0.318182    16  \n",
      "4     0.000000    85  \n",
      "...        ...   ...  \n",
      "3495  1.000000     0  \n",
      "3496  0.461538    40  \n",
      "3497  0.000000     0  \n",
      "3498  0.000000    39  \n",
      "3499  0.467391     8  \n",
      "\n",
      "[3500 rows x 10 columns]>\n"
     ]
    }
   ],
   "source": [
    "# 데이터 탐색\n",
    "print(x_test.head())\n",
    "print(x_train.head())\n",
    "print(y_train.head())\n",
    "print(x_test.describe)\n",
    "print(x_train.describe)"
   ]
  },
  {
   "cell_type": "code",
   "execution_count": 4,
   "id": "f1c63d27",
   "metadata": {},
   "outputs": [],
   "source": [
    "# cust_id 없애기\n",
    "x_test_id = x_test['cust_id']\n",
    "\n",
    "x_test.drop(['cust_id'], axis=1, inplace=True)\n",
    "x_train.drop(['cust_id'], axis=1, inplace=True)\n",
    "y_train.drop(['cust_id'], axis=1, inplace=True)"
   ]
  },
  {
   "cell_type": "code",
   "execution_count": 5,
   "id": "699eac88",
   "metadata": {},
   "outputs": [],
   "source": [
    "# # 결측치\n",
    "# print(x_train.isnull().sum())\n",
    "# print(x_test.isnull().sum())"
   ]
  },
  {
   "cell_type": "code",
   "execution_count": 6,
   "id": "b3787a48",
   "metadata": {},
   "outputs": [],
   "source": [
    "# 결측치 채우기\n",
    "x_train.fillna(0, inplace=True)\n",
    "x_test.fillna(0, inplace=True)"
   ]
  },
  {
   "cell_type": "code",
   "execution_count": 7,
   "id": "4d094e08",
   "metadata": {},
   "outputs": [
    {
     "name": "stdout",
     "output_type": "stream",
     "text": [
      "총구매액       0\n",
      "최대구매액      0\n",
      "환불금액       0\n",
      "주구매상품      0\n",
      "주구매지점      0\n",
      "내점일수       0\n",
      "내점당구매건수    0\n",
      "주말방문비율     0\n",
      "구매주기       0\n",
      "dtype: int64\n",
      "총구매액       0\n",
      "최대구매액      0\n",
      "환불금액       0\n",
      "주구매상품      0\n",
      "주구매지점      0\n",
      "내점일수       0\n",
      "내점당구매건수    0\n",
      "주말방문비율     0\n",
      "구매주기       0\n",
      "dtype: int64\n"
     ]
    }
   ],
   "source": [
    "print(x_train.isnull().sum())\n",
    "print(x_test.isnull().sum())"
   ]
  },
  {
   "cell_type": "code",
   "execution_count": 8,
   "id": "5ab5d17f",
   "metadata": {},
   "outputs": [],
   "source": [
    "# 원핫인코딩 주구매상품, 주구매지점\n",
    "item = pd.get_dummies(x_train['주구매상품'], prefix='주구매상품')\n",
    "store = pd.get_dummies(x_train['주구매지점'], prefix='주구매지점')\n",
    "x_train = pd.concat([x_train, item, store], axis=1)\n",
    "x_train.drop(['주구매상품', '주구매지점'], axis=1, inplace=True)\n",
    "\n",
    "item = pd.get_dummies(x_test['주구매상품'], prefix='주구매상품')\n",
    "store = pd.get_dummies(x_test['주구매지점'], prefix='주구매지점')\n",
    "x_test = pd.concat([x_test, item, store], axis=1)\n",
    "x_test.drop(['주구매상품', '주구매지점'], axis=1, inplace=True)"
   ]
  },
  {
   "cell_type": "code",
   "execution_count": 9,
   "id": "b733ce57",
   "metadata": {},
   "outputs": [
    {
     "data": {
      "text/plain": [
       "Index(['총구매액', '최대구매액', '환불금액', '내점일수', '내점당구매건수', '주말방문비율', '구매주기',\n",
       "       '주구매상품_가공식품', '주구매상품_가구', '주구매상품_건강식품', '주구매상품_골프', '주구매상품_구두',\n",
       "       '주구매상품_기타', '주구매상품_남성 캐주얼', '주구매상품_남성 트랜디', '주구매상품_남성정장', '주구매상품_농산물',\n",
       "       '주구매상품_대형가전', '주구매상품_디자이너', '주구매상품_란제리/내의', '주구매상품_명품', '주구매상품_모피/피혁',\n",
       "       '주구매상품_보석', '주구매상품_생활잡화', '주구매상품_섬유잡화', '주구매상품_셔츠', '주구매상품_소형가전',\n",
       "       '주구매상품_수산품', '주구매상품_스포츠', '주구매상품_시티웨어', '주구매상품_식기', '주구매상품_아동',\n",
       "       '주구매상품_악기', '주구매상품_액세서리', '주구매상품_육류', '주구매상품_일용잡화', '주구매상품_젓갈/반찬',\n",
       "       '주구매상품_주류', '주구매상품_주방가전', '주구매상품_주방용품', '주구매상품_차/커피', '주구매상품_축산가공',\n",
       "       '주구매상품_침구/수예', '주구매상품_캐주얼', '주구매상품_커리어', '주구매상품_통신/컴퓨터', '주구매상품_트래디셔널',\n",
       "       '주구매상품_피혁잡화', '주구매상품_화장품', '주구매지점_강남점', '주구매지점_관악점', '주구매지점_광주점',\n",
       "       '주구매지점_노원점', '주구매지점_대구점', '주구매지점_대전점', '주구매지점_동래점', '주구매지점_미아점',\n",
       "       '주구매지점_본  점', '주구매지점_부산본점', '주구매지점_부평점', '주구매지점_분당점', '주구매지점_상인점',\n",
       "       '주구매지점_센텀시티점', '주구매지점_안양점', '주구매지점_영등포점', '주구매지점_울산점', '주구매지점_인천점',\n",
       "       '주구매지점_일산점', '주구매지점_잠실점', '주구매지점_전주점', '주구매지점_창원점', '주구매지점_청량리점',\n",
       "       '주구매지점_포항점'],\n",
       "      dtype='object')"
      ]
     },
     "execution_count": 9,
     "metadata": {},
     "output_type": "execute_result"
    }
   ],
   "source": [
    "x_train.columns"
   ]
  },
  {
   "cell_type": "code",
   "execution_count": 10,
   "id": "7452a41f",
   "metadata": {},
   "outputs": [
    {
     "data": {
      "text/plain": [
       "Index(['총구매액', '최대구매액', '환불금액', '내점일수', '내점당구매건수', '주말방문비율', '구매주기',\n",
       "       '주구매상품_가공식품', '주구매상품_가구', '주구매상품_건강식품', '주구매상품_골프', '주구매상품_구두',\n",
       "       '주구매상품_기타', '주구매상품_남성 캐주얼', '주구매상품_남성 트랜디', '주구매상품_남성정장', '주구매상품_농산물',\n",
       "       '주구매상품_대형가전', '주구매상품_디자이너', '주구매상품_란제리/내의', '주구매상품_명품', '주구매상품_모피/피혁',\n",
       "       '주구매상품_보석', '주구매상품_생활잡화', '주구매상품_섬유잡화', '주구매상품_셔츠', '주구매상품_수산품',\n",
       "       '주구매상품_스포츠', '주구매상품_시티웨어', '주구매상품_식기', '주구매상품_아동', '주구매상품_악기',\n",
       "       '주구매상품_액세서리', '주구매상품_육류', '주구매상품_일용잡화', '주구매상품_젓갈/반찬', '주구매상품_주류',\n",
       "       '주구매상품_주방가전', '주구매상품_주방용품', '주구매상품_차/커피', '주구매상품_축산가공', '주구매상품_침구/수예',\n",
       "       '주구매상품_캐주얼', '주구매상품_커리어', '주구매상품_통신/컴퓨터', '주구매상품_트래디셔널', '주구매상품_피혁잡화',\n",
       "       '주구매상품_화장품', '주구매지점_강남점', '주구매지점_관악점', '주구매지점_광주점', '주구매지점_노원점',\n",
       "       '주구매지점_대구점', '주구매지점_대전점', '주구매지점_동래점', '주구매지점_미아점', '주구매지점_본  점',\n",
       "       '주구매지점_부산본점', '주구매지점_부평점', '주구매지점_분당점', '주구매지점_상인점', '주구매지점_센텀시티점',\n",
       "       '주구매지점_안양점', '주구매지점_영등포점', '주구매지점_울산점', '주구매지점_인천점', '주구매지점_일산점',\n",
       "       '주구매지점_잠실점', '주구매지점_전주점', '주구매지점_창원점', '주구매지점_청량리점', '주구매지점_포항점'],\n",
       "      dtype='object')"
      ]
     },
     "execution_count": 10,
     "metadata": {},
     "output_type": "execute_result"
    }
   ],
   "source": [
    "x_test.columns"
   ]
  },
  {
   "cell_type": "code",
   "execution_count": 11,
   "id": "b5815e04",
   "metadata": {},
   "outputs": [],
   "source": [
    "# train에만 있는 '주구매상품_소형가전' 삭제\n",
    "x_train.drop(['주구매상품_소형가전'], axis=1, inplace=True)"
   ]
  },
  {
   "cell_type": "code",
   "execution_count": 12,
   "id": "a7031499",
   "metadata": {},
   "outputs": [],
   "source": [
    "from sklearn.preprocessing import StandardScaler\n",
    "sc = StandardScaler()\n",
    "sc.fit(x_train)\n",
    "x_train_sc = sc.transform(x_train)\n",
    "x_test_sc = sc.transform(x_test)"
   ]
  },
  {
   "cell_type": "code",
   "execution_count": 13,
   "id": "d0421914",
   "metadata": {},
   "outputs": [
    {
     "data": {
      "text/html": [
       "<div>\n",
       "<style scoped>\n",
       "    .dataframe tbody tr th:only-of-type {\n",
       "        vertical-align: middle;\n",
       "    }\n",
       "\n",
       "    .dataframe tbody tr th {\n",
       "        vertical-align: top;\n",
       "    }\n",
       "\n",
       "    .dataframe thead th {\n",
       "        text-align: right;\n",
       "    }\n",
       "</style>\n",
       "<table border=\"1\" class=\"dataframe\">\n",
       "  <thead>\n",
       "    <tr style=\"text-align: right;\">\n",
       "      <th></th>\n",
       "      <th>gender</th>\n",
       "    </tr>\n",
       "  </thead>\n",
       "  <tbody>\n",
       "    <tr>\n",
       "      <th>0</th>\n",
       "      <td>0</td>\n",
       "    </tr>\n",
       "    <tr>\n",
       "      <th>1</th>\n",
       "      <td>0</td>\n",
       "    </tr>\n",
       "    <tr>\n",
       "      <th>2</th>\n",
       "      <td>1</td>\n",
       "    </tr>\n",
       "    <tr>\n",
       "      <th>3</th>\n",
       "      <td>1</td>\n",
       "    </tr>\n",
       "    <tr>\n",
       "      <th>4</th>\n",
       "      <td>0</td>\n",
       "    </tr>\n",
       "    <tr>\n",
       "      <th>...</th>\n",
       "      <td>...</td>\n",
       "    </tr>\n",
       "    <tr>\n",
       "      <th>3495</th>\n",
       "      <td>1</td>\n",
       "    </tr>\n",
       "    <tr>\n",
       "      <th>3496</th>\n",
       "      <td>1</td>\n",
       "    </tr>\n",
       "    <tr>\n",
       "      <th>3497</th>\n",
       "      <td>0</td>\n",
       "    </tr>\n",
       "    <tr>\n",
       "      <th>3498</th>\n",
       "      <td>0</td>\n",
       "    </tr>\n",
       "    <tr>\n",
       "      <th>3499</th>\n",
       "      <td>0</td>\n",
       "    </tr>\n",
       "  </tbody>\n",
       "</table>\n",
       "<p>3500 rows × 1 columns</p>\n",
       "</div>"
      ],
      "text/plain": [
       "      gender\n",
       "0          0\n",
       "1          0\n",
       "2          1\n",
       "3          1\n",
       "4          0\n",
       "...      ...\n",
       "3495       1\n",
       "3496       1\n",
       "3497       0\n",
       "3498       0\n",
       "3499       0\n",
       "\n",
       "[3500 rows x 1 columns]"
      ]
     },
     "execution_count": 13,
     "metadata": {},
     "output_type": "execute_result"
    }
   ],
   "source": [
    "y_train"
   ]
  },
  {
   "cell_type": "code",
   "execution_count": 14,
   "id": "91c1cd05",
   "metadata": {},
   "outputs": [
    {
     "name": "stderr",
     "output_type": "stream",
     "text": [
      "C:\\Users\\LDCC\\anaconda3\\envs\\ve_prac\\lib\\site-packages\\sklearn\\utils\\validation.py:63: DataConversionWarning: A column-vector y was passed when a 1d array was expected. Please change the shape of y to (n_samples, ), for example using ravel().\n",
      "  return f(*args, **kwargs)\n"
     ]
    },
    {
     "name": "stdout",
     "output_type": "stream",
     "text": [
      "Logistic socre:  0.6237142857142857\n"
     ]
    },
    {
     "name": "stderr",
     "output_type": "stream",
     "text": [
      "C:\\Users\\LDCC\\anaconda3\\envs\\ve_prac\\lib\\site-packages\\sklearn\\neighbors\\_classification.py:179: DataConversionWarning: A column-vector y was passed when a 1d array was expected. Please change the shape of y to (n_samples,), for example using ravel().\n",
      "  return self._fit(X, y)\n"
     ]
    },
    {
     "name": "stdout",
     "output_type": "stream",
     "text": [
      "KNN socre:  0.624\n",
      "DTree score:  0.7222857142857143\n"
     ]
    },
    {
     "name": "stderr",
     "output_type": "stream",
     "text": [
      "C:\\Users\\LDCC\\anaconda3\\envs\\ve_prac\\lib\\site-packages\\ipykernel_launcher.py:25: DataConversionWarning: A column-vector y was passed when a 1d array was expected. Please change the shape of y to (n_samples,), for example using ravel().\n"
     ]
    },
    {
     "name": "stdout",
     "output_type": "stream",
     "text": [
      "RF score:  0.7711428571428571\n"
     ]
    }
   ],
   "source": [
    "from sklearn.linear_model import LogisticRegression\n",
    " \n",
    "model = LogisticRegression()\n",
    "model.fit(x_train_sc, y_train)\n",
    "print('Logistic socre: ',model.score(x_train, y_train))\n",
    "\n",
    "# Knn\n",
    "from sklearn.neighbors import KNeighborsClassifier\n",
    " \n",
    "model = KNeighborsClassifier(n_neighbors=4, metric='euclidean')\n",
    "model.fit(x_train_sc, y_train)\n",
    "print('KNN socre: ', model.score(x_train, y_train))\n",
    "\n",
    "# DT\n",
    "from sklearn.tree import DecisionTreeClassifier\n",
    " \n",
    "model = DecisionTreeClassifier(random_state=1, max_depth=10)\n",
    "model.fit(x_train, y_train)\n",
    "print('DTree score: ', model.score(x_train,y_train))\n",
    "\n",
    "# RF\n",
    "from sklearn.ensemble import RandomForestClassifier\n",
    " \n",
    "model = RandomForestClassifier(max_depth=10, n_estimators=100)\n",
    "model.fit(x_train, y_train)\n",
    "print('RF score: ', model.score(x_train,y_train))"
   ]
  },
  {
   "cell_type": "code",
   "execution_count": 15,
   "id": "059d9740",
   "metadata": {},
   "outputs": [
    {
     "name": "stderr",
     "output_type": "stream",
     "text": [
      "C:\\Users\\LDCC\\anaconda3\\envs\\ve_prac\\lib\\site-packages\\sklearn\\utils\\validation.py:63: DataConversionWarning: A column-vector y was passed when a 1d array was expected. Please change the shape of y to (n_samples, ), for example using ravel().\n",
      "  return f(*args, **kwargs)\n"
     ]
    },
    {
     "name": "stdout",
     "output_type": "stream",
     "text": [
      "XGB score: 0.7114285714285714\n"
     ]
    }
   ],
   "source": [
    "# XGB\n",
    "from xgboost import XGBClassifier\n",
    "model = XGBClassifier()\n",
    "model.fit(x_train, y_train)\n",
    "print('XGB score:', model.score(x_train,y_train))"
   ]
  },
  {
   "cell_type": "code",
   "execution_count": 16,
   "id": "8cf46763",
   "metadata": {},
   "outputs": [],
   "source": [
    "predict = model.predict_proba(x_test)"
   ]
  },
  {
   "cell_type": "code",
   "execution_count": 17,
   "id": "adfe2597",
   "metadata": {},
   "outputs": [
    {
     "data": {
      "text/plain": [
       "array([[0.52085984, 0.47914013],\n",
       "       [0.83352005, 0.16647997],\n",
       "       [0.85227406, 0.14772592],\n",
       "       ...,\n",
       "       [0.43747634, 0.56252366],\n",
       "       [0.57607776, 0.42392224],\n",
       "       [0.5071732 , 0.49282685]], dtype=float32)"
      ]
     },
     "execution_count": 17,
     "metadata": {},
     "output_type": "execute_result"
    }
   ],
   "source": [
    "predict"
   ]
  },
  {
   "cell_type": "code",
   "execution_count": 18,
   "id": "bf73125a",
   "metadata": {},
   "outputs": [],
   "source": [
    "output = pd.DataFrame({'cust_id':x_test_id, 'gender':predict[:,1]})"
   ]
  },
  {
   "cell_type": "code",
   "execution_count": 19,
   "id": "3c3b1bff",
   "metadata": {},
   "outputs": [
    {
     "data": {
      "text/html": [
       "<div>\n",
       "<style scoped>\n",
       "    .dataframe tbody tr th:only-of-type {\n",
       "        vertical-align: middle;\n",
       "    }\n",
       "\n",
       "    .dataframe tbody tr th {\n",
       "        vertical-align: top;\n",
       "    }\n",
       "\n",
       "    .dataframe thead th {\n",
       "        text-align: right;\n",
       "    }\n",
       "</style>\n",
       "<table border=\"1\" class=\"dataframe\">\n",
       "  <thead>\n",
       "    <tr style=\"text-align: right;\">\n",
       "      <th></th>\n",
       "      <th>cust_id</th>\n",
       "      <th>gender</th>\n",
       "    </tr>\n",
       "  </thead>\n",
       "  <tbody>\n",
       "    <tr>\n",
       "      <th>0</th>\n",
       "      <td>3500</td>\n",
       "      <td>0.479140</td>\n",
       "    </tr>\n",
       "    <tr>\n",
       "      <th>1</th>\n",
       "      <td>3501</td>\n",
       "      <td>0.166480</td>\n",
       "    </tr>\n",
       "    <tr>\n",
       "      <th>2</th>\n",
       "      <td>3502</td>\n",
       "      <td>0.147726</td>\n",
       "    </tr>\n",
       "    <tr>\n",
       "      <th>3</th>\n",
       "      <td>3503</td>\n",
       "      <td>0.439151</td>\n",
       "    </tr>\n",
       "    <tr>\n",
       "      <th>4</th>\n",
       "      <td>3504</td>\n",
       "      <td>0.468586</td>\n",
       "    </tr>\n",
       "    <tr>\n",
       "      <th>...</th>\n",
       "      <td>...</td>\n",
       "      <td>...</td>\n",
       "    </tr>\n",
       "    <tr>\n",
       "      <th>2477</th>\n",
       "      <td>5977</td>\n",
       "      <td>0.571561</td>\n",
       "    </tr>\n",
       "    <tr>\n",
       "      <th>2478</th>\n",
       "      <td>5978</td>\n",
       "      <td>0.589915</td>\n",
       "    </tr>\n",
       "    <tr>\n",
       "      <th>2479</th>\n",
       "      <td>5979</td>\n",
       "      <td>0.562524</td>\n",
       "    </tr>\n",
       "    <tr>\n",
       "      <th>2480</th>\n",
       "      <td>5980</td>\n",
       "      <td>0.423922</td>\n",
       "    </tr>\n",
       "    <tr>\n",
       "      <th>2481</th>\n",
       "      <td>5981</td>\n",
       "      <td>0.492827</td>\n",
       "    </tr>\n",
       "  </tbody>\n",
       "</table>\n",
       "<p>2482 rows × 2 columns</p>\n",
       "</div>"
      ],
      "text/plain": [
       "      cust_id    gender\n",
       "0        3500  0.479140\n",
       "1        3501  0.166480\n",
       "2        3502  0.147726\n",
       "3        3503  0.439151\n",
       "4        3504  0.468586\n",
       "...       ...       ...\n",
       "2477     5977  0.571561\n",
       "2478     5978  0.589915\n",
       "2479     5979  0.562524\n",
       "2480     5980  0.423922\n",
       "2481     5981  0.492827\n",
       "\n",
       "[2482 rows x 2 columns]"
      ]
     },
     "execution_count": 19,
     "metadata": {},
     "output_type": "execute_result"
    }
   ],
   "source": [
    "output"
   ]
  },
  {
   "cell_type": "code",
   "execution_count": null,
   "id": "1d15e67e",
   "metadata": {},
   "outputs": [],
   "source": []
  }
 ],
 "metadata": {
  "kernelspec": {
   "display_name": "ve_prac",
   "language": "python",
   "name": "ve_prac"
  },
  "language_info": {
   "codemirror_mode": {
    "name": "ipython",
    "version": 3
   },
   "file_extension": ".py",
   "mimetype": "text/x-python",
   "name": "python",
   "nbconvert_exporter": "python",
   "pygments_lexer": "ipython3",
   "version": "3.6.13"
  },
  "toc": {
   "base_numbering": 1,
   "nav_menu": {},
   "number_sections": true,
   "sideBar": true,
   "skip_h1_title": false,
   "title_cell": "Table of Contents",
   "title_sidebar": "Contents",
   "toc_cell": false,
   "toc_position": {
    "height": "calc(100% - 180px)",
    "left": "10px",
    "top": "150px",
    "width": "303.837px"
   },
   "toc_section_display": true,
   "toc_window_display": true
  }
 },
 "nbformat": 4,
 "nbformat_minor": 5
}
